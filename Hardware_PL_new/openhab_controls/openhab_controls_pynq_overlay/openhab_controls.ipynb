{
 "cells": [
  {
   "cell_type": "markdown",
   "metadata": {},
   "source": [
    "pynq.Overlay.ip_dict()\n",
    "    ip_dict() shows the information about the IPs used in the designs and will show type(helps to create drivers) and physical address of IPs and address range of IPs.\n"
   ]
  },
  {
   "cell_type": "code",
   "execution_count": null,
   "metadata": {},
   "outputs": [],
   "source": [
    "import sys\n",
    "import os\n",
    "\n",
    "import math\n",
    "import time\n",
    "import numpy as np\n",
    "from datetime import datetime\n",
    "from pynq import DefaultIP\n",
    "import pynq\n",
    "from pynq import MMIO\n",
    "from pynq import Overlay\n",
    "from pynq import Xlnk\n",
    "ol = Overlay('/home/xilinx/jupyter_notebooks/Praeklima /testing/openhab_controls.bit')\n",
    "\n",
    "# ol.ip_dict"
   ]
  },
  {
   "cell_type": "markdown",
   "metadata": {},
   "source": [
    "ol.ip_dict to fetch specific information of an IP\n",
    "\n",
    "MMIO: Memory mapped IO helps to read and write into specific address \n",
    "DMA: \n",
    "    The pynq DMA class supports the AXI Direct Memory Access IP. This allows data to be read from DRAM, and sent to an AXI stream, or received from a stream and written to DRAM\n",
    "    \n",
    "Xlnk: \n",
    "    Memory must be allocated before it can be accessed by the IP. Xlnk allows memory buffers to be allocated. Xlnk allocates a contiguous memory buffer which allows efficient transfers of data between PS and PL. Python or other code running in Linux on the PS can access the memory buffer directly.\n",
    "    \n",
    "   for more info and functions on these class\n",
    "   https://pynq.readthedocs.io/en/v2.0/overlay_design_methodology/pspl_interface.html#"
   ]
  },
  {
   "cell_type": "code",
   "execution_count": 2,
   "metadata": {},
   "outputs": [
    {
     "name": "stdout",
     "output_type": "stream",
     "text": [
      "User space memory BYTE address of IP block dual port ram: 0xa0000000\n",
      "Size in BYTES of memory mapped ip block: 8192\n",
      "User space memory BYTE address of IP block dual port ram: 0xa0002000\n",
      "Size in BYTES of memory mapped ip block: 8192\n"
     ]
    },
    {
     "name": "stderr",
     "output_type": "stream",
     "text": [
      "/usr/lib/python3/dist-packages/ipykernel_launcher.py:14: DeprecationWarning: pynq.Xlnk is deprecated and will be removed in 2.7 - use pynq.allocate instead\n",
      "  \n",
      "/usr/local/lib/python3.6/dist-packages/pynq/overlay.py:691: UserWarning: Interrupt s2mm_introut not created: Could not find UIO device for interrupt pin for IRQ number 122\n",
      "  interrupt, str(e)))\n"
     ]
    }
   ],
   "source": [
    "dp_32x1k_byte_addr0 = ol.ip_dict['axi_bram_ctrl_0']['phys_addr']\n",
    "print('User space memory BYTE address of IP block dual port ram: ' + str(hex(dp_32x1k_byte_addr0)))\n",
    "dp_32x1k_byte_size0 = ol.ip_dict['axi_bram_ctrl_0']['addr_range']\n",
    "print('Size in BYTES of memory mapped ip block: ' + str((dp_32x1k_byte_size0)));\n",
    "dp_32x1k_byte_addr1 = ol.ip_dict['axi_bram_ctrl_1']['phys_addr']\n",
    "print('User space memory BYTE address of IP block dual port ram: ' + str(hex(dp_32x1k_byte_addr1)))\n",
    "dp_32x1k_byte_size1 = ol.ip_dict['axi_bram_ctrl_1']['addr_range']\n",
    "print('Size in BYTES of memory mapped ip block: ' + str((dp_32x1k_byte_size1)));\n",
    "\n",
    "dpram1 = MMIO(dp_32x1k_byte_addr0, dp_32x1k_byte_size0)\n",
    "dpram2 = MMIO(dp_32x1k_byte_addr1, dp_32x1k_byte_size1)\n",
    "\n",
    "\n",
    "xlnk = pynq.Xlnk()\n",
    "in_buffer = xlnk.cma_array(shape=(20,), dtype=np.uint32)\n",
    "out_buffer = xlnk.cma_array(shape=(20,), dtype=np.uint32)\n",
    "\n",
    "dma1 = ol.axi_dma_0\n",
    "start = ol.axi_gpio_0.channel1 # AXI GPIO has two functions read and write helps to read and write from GPIOs.\n",
    "done = ol.axi_gpio_0.channel2\n",
    "idle = ol.axi_gpio_1.channel1\n",
    "ready = ol.axi_gpio_1.channel2"
   ]
  },
  {
   "cell_type": "markdown",
   "metadata": {},
   "source": [
    "functions to write and read a whole list into memory (BRAM)\n",
    "dma_transfer() Transmitts and receives stream of data into DMA FIFO."
   ]
  },
  {
   "cell_type": "code",
   "execution_count": 3,
   "metadata": {},
   "outputs": [],
   "source": [
    "\n",
    "\n",
    "def write32_list(mem, idx, val):\n",
    "    for i in range(len(idx)):\n",
    "        mem.write(idx[i] * 4, val[i])\n",
    "def write32(mem, idx, val):\n",
    "    mem.write(idx*4, val)\n",
    "def write_bytes(mem, start_idx, vals):\n",
    "    mem.write(start_idx*4, vals)\n",
    "def read32_list(mem, idx):\n",
    "    data = []\n",
    "    for i in idx:\n",
    "        data.append(mem.read(i*4))\n",
    "    return data\n",
    "def read32(mem, idx):\n",
    "    return mem.read(idx*4)\n",
    "\n",
    "def dma_transfer(dma):\n",
    "    dma.sendchannel.transfer(in_buffer)\n",
    "    dma.recvchannel.transfer(out_buffer)    \n",
    "    dma.sendchannel.wait()\n",
    "    dma.recvchannel.wait()"
   ]
  },
  {
   "cell_type": "markdown",
   "metadata": {},
   "source": [
    "import requests\n",
    "import pandas\n",
    "import time\n",
    "import numpy\n",
    "from datetime import datetime\n",
    "from fxpmath import Fxp\n",
    "\n",
    "database = pandas.read_csv('/home/xilinx/jupyter_notebooks/Praeklima /REST_API_database')  # Opening csv file using pandas\n",
    "\n",
    "# Column names for the database\n",
    "column = ['date', 'time', 'localCurrentTemperature', 'localCurrentApparentTemperature', 'LocalForecastedTemperature_3',\n",
    "          'LocalForecastedApparentTemperature_3', 'LocalForecastedTemperature_6',\n",
    "          'LocalForecastedApparentTemperature_6', 'localCurrentHumidity', 'LocalForecastedHumidity_3',\n",
    "          'LocalForecastedHumidity_6', 'LocalCurrent_Cloudiness', 'LocalForecastedCloudiness_3',\n",
    "          'LocalForecastedCloudiness_6', 'localCurrentUVIndex', 'LocalCurrent_Rain', 'LocalForecastedRain_3',\n",
    "          'LocalForecastedRain_6',\n",
    "          'LocalCurrent_Snow', 'LocalForecastedSnow_3', 'LocalForecastedSnow_6', 'SensorTemperature',\n",
    "          'SensorRelativeHumidity', 'SensorUltraviolet', 'SensorLuminance', 'MotionAlarm', 'TamperAlarm',\n",
    "          'WallPlugSwitch_Switch_1', 'WallPlugSwitch_SensorPower_1']\n",
    "row_data = []\n",
    "listdata = database.values.tolist()\n",
    "\n",
    "y = [1]\n",
    "for i in range(10):\n",
    "    y.append((Fxp(listdata[1][i+3], signed=True, n_word=32, n_frac=16)).bin(frac_dot = True))\n",
    "print(y)"
   ]
  },
  {
   "cell_type": "markdown",
   "metadata": {},
   "source": [
    "help(pynq.Xlnk) helps to find the functions syntax offered by specific class "
   ]
  },
  {
   "cell_type": "code",
   "execution_count": 16,
   "metadata": {},
   "outputs": [
    {
     "name": "stdout",
     "output_type": "stream",
     "text": [
      "[70, 70, 70, 70, 70, 70, 70, 70, 70, 70]\n"
     ]
    }
   ],
   "source": [
    "addr = [0,1,2,3,4,5,6,7,8,9] #address locations of BRAM\n",
    "sensor_values = [0,0,0,0,0,0,0,0,0,0] \n",
    "for i in range(10):\n",
    "    sensor_values[i] = 70\n",
    "for i in range(20):\n",
    "    in_buffer[i] = (i%10)*10\n",
    "write32_list(dpram1,addr,sensor_values) # writing an array into BRAM_1\n",
    "print(read32_list(dpram1,addr))\n"
   ]
  },
  {
   "cell_type": "code",
   "execution_count": 17,
   "metadata": {},
   "outputs": [],
   "source": [
    "start.write(1,0x1) # starting IP by activating ap_start pin \n",
    "\n"
   ]
  },
  {
   "cell_type": "code",
   "execution_count": 18,
   "metadata": {},
   "outputs": [],
   "source": [
    "\n",
    "# dma.running\n",
    "dma_transfer(dma1)"
   ]
  },
  {
   "cell_type": "code",
   "execution_count": 19,
   "metadata": {},
   "outputs": [],
   "source": [
    "for i in range(100):\n",
    "    if(ready.read == 1):\n",
    "        print(ready.read() + \"ready is active\")\n",
    "    if (done.read()== 1):\n",
    "        print(\"execution completed\")\n",
    "        start.write(0,0x1)"
   ]
  },
  {
   "cell_type": "code",
   "execution_count": 20,
   "metadata": {},
   "outputs": [
    {
     "name": "stdout",
     "output_type": "stream",
     "text": [
      "[70, 70, 70, 70, 70, 70, 70, 70, 70, 70]\n",
      "[1, 1, 1, 1, 1, 1, 1, 0, 0, 0]\n"
     ]
    }
   ],
   "source": [
    "print(read32_list(dpram1,addr))\n",
    "print(read32_list(dpram2,addr)) # reading output "
   ]
  },
  {
   "cell_type": "code",
   "execution_count": 21,
   "metadata": {},
   "outputs": [
    {
     "name": "stdout",
     "output_type": "stream",
     "text": [
      "[70, 70, 70, 70, 70, 70, 70, 70, 70, 70]\n",
      "[1, 1, 1, 1, 1, 1, 1, 0, 0, 0]\n",
      "[1 1 1 1 1 1 1 0 0 0 1 1 1 1 1 1 1 0 0 0]\n"
     ]
    }
   ],
   "source": [
    "start.write(0,0x1) #stoping the IP \n",
    "print(read32_list(dpram1,addr))\n",
    "print(read32_list(dpram2,addr))\n",
    "#print the output stream\n",
    "print(out_buffer)"
   ]
  },
  {
   "cell_type": "code",
   "execution_count": null,
   "metadata": {},
   "outputs": [],
   "source": []
  }
 ],
 "metadata": {
  "kernelspec": {
   "display_name": "Python 3",
   "language": "python",
   "name": "python3"
  },
  "language_info": {
   "codemirror_mode": {
    "name": "ipython",
    "version": 3
   },
   "file_extension": ".py",
   "mimetype": "text/x-python",
   "name": "python",
   "nbconvert_exporter": "python",
   "pygments_lexer": "ipython3",
   "version": "3.6.5"
  }
 },
 "nbformat": 4,
 "nbformat_minor": 4
}
