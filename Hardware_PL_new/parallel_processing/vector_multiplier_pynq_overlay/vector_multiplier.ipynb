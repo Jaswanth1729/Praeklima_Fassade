{
 "cells": [
  {
   "cell_type": "code",
   "execution_count": 1,
   "metadata": {},
   "outputs": [
    {
     "data": {
      "application/javascript": [
       "\n",
       "try {\n",
       "require(['notebook/js/codecell'], function(codecell) {\n",
       "  codecell.CodeCell.options_default.highlight_modes[\n",
       "      'magic_text/x-csrc'] = {'reg':[/^%%microblaze/]};\n",
       "  Jupyter.notebook.events.one('kernel_ready.Kernel', function(){\n",
       "      Jupyter.notebook.get_cells().map(function(cell){\n",
       "          if (cell.cell_type == 'code'){ cell.auto_highlight(); } }) ;\n",
       "  });\n",
       "});\n",
       "} catch (e) {};\n"
      ]
     },
     "metadata": {},
     "output_type": "display_data"
    },
    {
     "data": {
      "application/javascript": [
       "\n",
       "try {\n",
       "require(['notebook/js/codecell'], function(codecell) {\n",
       "  codecell.CodeCell.options_default.highlight_modes[\n",
       "      'magic_text/x-csrc'] = {'reg':[/^%%pybind11/]};\n",
       "  Jupyter.notebook.events.one('kernel_ready.Kernel', function(){\n",
       "      Jupyter.notebook.get_cells().map(function(cell){\n",
       "          if (cell.cell_type == 'code'){ cell.auto_highlight(); } }) ;\n",
       "  });\n",
       "});\n",
       "} catch (e) {};\n"
      ]
     },
     "metadata": {},
     "output_type": "display_data"
    }
   ],
   "source": [
    "from pynq import Overlay\n",
    "from pynq import DefaultIP\n",
    "import pynq.lib.dma\n",
    "from pynq import Xlnk\n",
    "import numpy as np\n",
    "\n",
    "class AddDriver(DefaultIP):\n",
    "    def __init__(self,description):\n",
    "        super().__init__(description=description)\n",
    "    \n",
    "    bindto = ['xilinx.com:hls:add:1.0']\n",
    "    \n",
    "    def add(self,a,b):\n",
    "        self.write(0x10,a)\n",
    "        self.write(0x18,b)\n",
    "        return self.read(0x20)\n",
    "    \n",
    "class ConstantMultiplyDriver(DefaultIP):\n",
    "    def __init__(self, description):\n",
    "        super().__init__(description=description)\n",
    "\n",
    "    bindto = ['xilinx.com:hls:vector_multiplier:1.0']\n",
    "\n",
    "    @property\n",
    "    def constant(self):\n",
    "        return self.read(0x10)\n",
    "\n",
    "    @constant.setter\n",
    "    def constant(self, value):\n",
    "        self.write(0x10, value)\n",
    "        \n",
    "    def constant_list(self,value):\n",
    "        for i in range(len(value)):\n",
    "            self.write(0x3f + (i*4),value[i])\n",
    "            "
   ]
  },
  {
   "cell_type": "code",
   "execution_count": 4,
   "metadata": {},
   "outputs": [],
   "source": [
    "ol = Overlay('vector_multiplier.bit')\n",
    "dma = ol.custom_multiplier.axi_dma_0\n",
    "multiply = ol.custom_multiplier.vector_multiplier\n",
    "\n"
   ]
  },
  {
   "cell_type": "code",
   "execution_count": 8,
   "metadata": {},
   "outputs": [
    {
     "name": "stdout",
     "output_type": "stream",
     "text": [
      "[  0  25  50  75 100]\n"
     ]
    },
    {
     "name": "stderr",
     "output_type": "stream",
     "text": [
      "/usr/lib/python3/dist-packages/ipykernel_launcher.py:3: DeprecationWarning: pynq.Xlnk is deprecated and will be removed in 2.7 - use pynq.allocate instead\n",
      "  This is separate from the ipykernel package so we can avoid doing imports until\n"
     ]
    }
   ],
   "source": [
    "\n",
    "\n",
    "xlnk = Xlnk()\n",
    "in_buffer = xlnk.cma_array(shape=(5,), dtype=np.uint32)\n",
    "out_buffer = xlnk.cma_array(shape=(5,), dtype=np.uint32)\n",
    "\n",
    "for i in range(5):\n",
    "    in_buffer[i] = i*5\n",
    "# x = [1,2,3,4,5]\n",
    "multiply.constant = 5\n",
    "dma.sendchannel.transfer(in_buffer)\n",
    "dma.recvchannel.transfer(out_buffer)\n",
    "dma.sendchannel.wait()\n",
    "dma.recvchannel.wait()\n",
    "\n",
    "print(out_buffer)"
   ]
  },
  {
   "cell_type": "code",
   "execution_count": 6,
   "metadata": {},
   "outputs": [],
   "source": [
    "from pynq import DefaultHierarchy\n",
    "\n",
    "class StreamMultiplyDriver(DefaultHierarchy):\n",
    "    def __init__(self, description):\n",
    "        super().__init__(description)\n",
    "\n",
    "    def stream_multiply(self, stream, constant):\n",
    "        self.multiply.constant = constant\n",
    "        with xlnk.cma_array(shape=(len(stream),), dtype=np.uint32) as in_buffer,\\\n",
    "             xlnk.cma_array(shape=(len(stream),), dtype=np.uint32) as out_buffer:\n",
    "            for i, v, in enumerate(stream):\n",
    "                in_buffer[i] = v\n",
    "            self.multiply_dma.sendchannel.transfer(in_buffer)\n",
    "            self.multiply_dma.recvchannel.transfer(out_buffer)\n",
    "            self.multiply_dma.sendchannel.wait()\n",
    "            self.multiply_dma.recvchannel.wait()\n",
    "            result = out_buffer.copy()\n",
    "        return result\n",
    "\n",
    "    @staticmethod\n",
    "    def checkhierarchy(description):\n",
    "        if 'multiply_dma' in description['ip'] and 'multiply' in description['ip']:\n",
    "            return True\n",
    "        return False"
   ]
  },
  {
   "cell_type": "code",
   "execution_count": null,
   "metadata": {},
   "outputs": [],
   "source": []
  }
 ],
 "metadata": {
  "kernelspec": {
   "display_name": "Python 3",
   "language": "python",
   "name": "python3"
  },
  "language_info": {
   "codemirror_mode": {
    "name": "ipython",
    "version": 3
   },
   "file_extension": ".py",
   "mimetype": "text/x-python",
   "name": "python",
   "nbconvert_exporter": "python",
   "pygments_lexer": "ipython3",
   "version": "3.6.5"
  }
 },
 "nbformat": 4,
 "nbformat_minor": 4
}
